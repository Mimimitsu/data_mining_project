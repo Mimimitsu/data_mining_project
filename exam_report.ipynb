{
 "cells": [
  {
   "cell_type": "markdown",
   "metadata": {},
   "source": [
    "# 1. Data Pre-processing"
   ]
  },
  {
   "cell_type": "markdown",
   "metadata": {},
   "source": [
    "### 1.1 Checking the dataset"
   ]
  },
  {
   "cell_type": "code",
   "execution_count": 38,
   "metadata": {},
   "outputs": [],
   "source": [
    "import pandas as pd\n",
    "import numpy as np\n",
    "import seaborn as sns\n",
    "import matplotlib.pyplot as plt"
   ]
  },
  {
   "cell_type": "markdown",
   "metadata": {},
   "source": [
    "The first thing we need to do is to load the dataset and checking the data type of each features."
   ]
  },
  {
   "cell_type": "code",
   "execution_count": 2,
   "metadata": {},
   "outputs": [
    {
     "data": {
      "text/html": [
       "<div>\n",
       "<style scoped>\n",
       "    .dataframe tbody tr th:only-of-type {\n",
       "        vertical-align: middle;\n",
       "    }\n",
       "\n",
       "    .dataframe tbody tr th {\n",
       "        vertical-align: top;\n",
       "    }\n",
       "\n",
       "    .dataframe thead th {\n",
       "        text-align: right;\n",
       "    }\n",
       "</style>\n",
       "<table border=\"1\" class=\"dataframe\">\n",
       "  <thead>\n",
       "    <tr style=\"text-align: right;\">\n",
       "      <th></th>\n",
       "      <th>cpuName</th>\n",
       "      <th>price</th>\n",
       "      <th>cpuMark</th>\n",
       "      <th>cpuValue</th>\n",
       "      <th>threadMark</th>\n",
       "      <th>threadValue</th>\n",
       "      <th>TDP</th>\n",
       "      <th>powerPerf</th>\n",
       "      <th>cores</th>\n",
       "      <th>testDate</th>\n",
       "      <th>socket</th>\n",
       "      <th>category</th>\n",
       "    </tr>\n",
       "  </thead>\n",
       "  <tbody>\n",
       "    <tr>\n",
       "      <th>0</th>\n",
       "      <td>AMD Ryzen Threadripper PRO 5995WX</td>\n",
       "      <td>NaN</td>\n",
       "      <td>108822</td>\n",
       "      <td>NaN</td>\n",
       "      <td>3330</td>\n",
       "      <td>NaN</td>\n",
       "      <td>280.0</td>\n",
       "      <td>388.65</td>\n",
       "      <td>64</td>\n",
       "      <td>2022</td>\n",
       "      <td>sWRX8</td>\n",
       "      <td>Desktop</td>\n",
       "    </tr>\n",
       "    <tr>\n",
       "      <th>1</th>\n",
       "      <td>AMD EPYC 7763</td>\n",
       "      <td>7299.99</td>\n",
       "      <td>88338</td>\n",
       "      <td>12.10</td>\n",
       "      <td>2635</td>\n",
       "      <td>0.36</td>\n",
       "      <td>280.0</td>\n",
       "      <td>315.49</td>\n",
       "      <td>64</td>\n",
       "      <td>2021</td>\n",
       "      <td>SP3</td>\n",
       "      <td>Server</td>\n",
       "    </tr>\n",
       "    <tr>\n",
       "      <th>2</th>\n",
       "      <td>AMD EPYC 7J13</td>\n",
       "      <td>NaN</td>\n",
       "      <td>86006</td>\n",
       "      <td>NaN</td>\n",
       "      <td>2387</td>\n",
       "      <td>NaN</td>\n",
       "      <td>NaN</td>\n",
       "      <td>NaN</td>\n",
       "      <td>64</td>\n",
       "      <td>2021</td>\n",
       "      <td>unknown</td>\n",
       "      <td>Server</td>\n",
       "    </tr>\n",
       "    <tr>\n",
       "      <th>3</th>\n",
       "      <td>AMD EPYC 7713</td>\n",
       "      <td>7060.00</td>\n",
       "      <td>85861</td>\n",
       "      <td>12.16</td>\n",
       "      <td>2727</td>\n",
       "      <td>0.39</td>\n",
       "      <td>225.0</td>\n",
       "      <td>381.6</td>\n",
       "      <td>64</td>\n",
       "      <td>2021</td>\n",
       "      <td>SP3</td>\n",
       "      <td>Server</td>\n",
       "    </tr>\n",
       "    <tr>\n",
       "      <th>4</th>\n",
       "      <td>AMD Ryzen Threadripper PRO 3995WX</td>\n",
       "      <td>6807.98</td>\n",
       "      <td>83971</td>\n",
       "      <td>12.33</td>\n",
       "      <td>2626</td>\n",
       "      <td>0.39</td>\n",
       "      <td>280.0</td>\n",
       "      <td>299.9</td>\n",
       "      <td>64</td>\n",
       "      <td>2020</td>\n",
       "      <td>sWRX8</td>\n",
       "      <td>Desktop</td>\n",
       "    </tr>\n",
       "    <tr>\n",
       "      <th>...</th>\n",
       "      <td>...</td>\n",
       "      <td>...</td>\n",
       "      <td>...</td>\n",
       "      <td>...</td>\n",
       "      <td>...</td>\n",
       "      <td>...</td>\n",
       "      <td>...</td>\n",
       "      <td>...</td>\n",
       "      <td>...</td>\n",
       "      <td>...</td>\n",
       "      <td>...</td>\n",
       "      <td>...</td>\n",
       "    </tr>\n",
       "    <tr>\n",
       "      <th>3820</th>\n",
       "      <td>Intel Pentium 4 1.60GHz</td>\n",
       "      <td>NaN</td>\n",
       "      <td>84</td>\n",
       "      <td>NaN</td>\n",
       "      <td>225</td>\n",
       "      <td>NaN</td>\n",
       "      <td>38.0</td>\n",
       "      <td>2.22</td>\n",
       "      <td>1</td>\n",
       "      <td>2009</td>\n",
       "      <td>PGA478</td>\n",
       "      <td>Desktop</td>\n",
       "    </tr>\n",
       "    <tr>\n",
       "      <th>3821</th>\n",
       "      <td>Intel Pentium 4 1400MHz</td>\n",
       "      <td>NaN</td>\n",
       "      <td>83</td>\n",
       "      <td>NaN</td>\n",
       "      <td>180</td>\n",
       "      <td>NaN</td>\n",
       "      <td>54.7</td>\n",
       "      <td>1.52</td>\n",
       "      <td>1</td>\n",
       "      <td>2009</td>\n",
       "      <td>PGA423</td>\n",
       "      <td>Desktop</td>\n",
       "    </tr>\n",
       "    <tr>\n",
       "      <th>3822</th>\n",
       "      <td>Intel Pentium 4 1500MHz</td>\n",
       "      <td>NaN</td>\n",
       "      <td>81</td>\n",
       "      <td>NaN</td>\n",
       "      <td>223</td>\n",
       "      <td>NaN</td>\n",
       "      <td>57.8</td>\n",
       "      <td>1.41</td>\n",
       "      <td>1</td>\n",
       "      <td>2009</td>\n",
       "      <td>PGA423</td>\n",
       "      <td>Desktop</td>\n",
       "    </tr>\n",
       "    <tr>\n",
       "      <th>3823</th>\n",
       "      <td>VIA Eden 1000MHz</td>\n",
       "      <td>NaN</td>\n",
       "      <td>80</td>\n",
       "      <td>NaN</td>\n",
       "      <td>83</td>\n",
       "      <td>NaN</td>\n",
       "      <td>5.0</td>\n",
       "      <td>16.08</td>\n",
       "      <td>1</td>\n",
       "      <td>2017</td>\n",
       "      <td>NanoBGA2</td>\n",
       "      <td>Laptop</td>\n",
       "    </tr>\n",
       "    <tr>\n",
       "      <th>3824</th>\n",
       "      <td>Intel Pentium 4 1300MHz</td>\n",
       "      <td>NaN</td>\n",
       "      <td>77</td>\n",
       "      <td>NaN</td>\n",
       "      <td>203</td>\n",
       "      <td>NaN</td>\n",
       "      <td>51.6</td>\n",
       "      <td>1.5</td>\n",
       "      <td>1</td>\n",
       "      <td>2009</td>\n",
       "      <td>PGA423</td>\n",
       "      <td>Desktop</td>\n",
       "    </tr>\n",
       "  </tbody>\n",
       "</table>\n",
       "<p>3825 rows × 12 columns</p>\n",
       "</div>"
      ],
      "text/plain": [
       "                                cpuName    price  cpuMark  cpuValue  \\\n",
       "0     AMD Ryzen Threadripper PRO 5995WX      NaN   108822       NaN   \n",
       "1                         AMD EPYC 7763  7299.99    88338     12.10   \n",
       "2                         AMD EPYC 7J13      NaN    86006       NaN   \n",
       "3                         AMD EPYC 7713  7060.00    85861     12.16   \n",
       "4     AMD Ryzen Threadripper PRO 3995WX  6807.98    83971     12.33   \n",
       "...                                 ...      ...      ...       ...   \n",
       "3820            Intel Pentium 4 1.60GHz      NaN       84       NaN   \n",
       "3821            Intel Pentium 4 1400MHz      NaN       83       NaN   \n",
       "3822            Intel Pentium 4 1500MHz      NaN       81       NaN   \n",
       "3823                   VIA Eden 1000MHz      NaN       80       NaN   \n",
       "3824            Intel Pentium 4 1300MHz      NaN       77       NaN   \n",
       "\n",
       "      threadMark  threadValue    TDP powerPerf  cores  testDate    socket  \\\n",
       "0           3330          NaN  280.0    388.65     64      2022     sWRX8   \n",
       "1           2635         0.36  280.0    315.49     64      2021       SP3   \n",
       "2           2387          NaN    NaN       NaN     64      2021   unknown   \n",
       "3           2727         0.39  225.0     381.6     64      2021       SP3   \n",
       "4           2626         0.39  280.0     299.9     64      2020     sWRX8   \n",
       "...          ...          ...    ...       ...    ...       ...       ...   \n",
       "3820         225          NaN   38.0      2.22      1      2009    PGA478   \n",
       "3821         180          NaN   54.7      1.52      1      2009    PGA423   \n",
       "3822         223          NaN   57.8      1.41      1      2009    PGA423   \n",
       "3823          83          NaN    5.0     16.08      1      2017  NanoBGA2   \n",
       "3824         203          NaN   51.6       1.5      1      2009    PGA423   \n",
       "\n",
       "     category  \n",
       "0     Desktop  \n",
       "1      Server  \n",
       "2      Server  \n",
       "3      Server  \n",
       "4     Desktop  \n",
       "...       ...  \n",
       "3820  Desktop  \n",
       "3821  Desktop  \n",
       "3822  Desktop  \n",
       "3823   Laptop  \n",
       "3824  Desktop  \n",
       "\n",
       "[3825 rows x 12 columns]"
      ]
     },
     "execution_count": 2,
     "metadata": {},
     "output_type": "execute_result"
    }
   ],
   "source": [
    "df = pd.read_csv('CPU_benchmark.csv')\n",
    "df"
   ]
  },
  {
   "cell_type": "markdown",
   "metadata": {},
   "source": [
    "From the header and footer of above dataset, we could find that there are some different null values in different features. There are some 'NaN' values in almost every features and some 'unknown' strings in 'socket' variable. Now we should do some checking."
   ]
  },
  {
   "cell_type": "code",
   "execution_count": 3,
   "metadata": {},
   "outputs": [
    {
     "name": "stdout",
     "output_type": "stream",
     "text": [
      "Index(['cpuName', 'price', 'cpuMark', 'cpuValue', 'threadMark', 'threadValue',\n",
      "       'TDP', 'powerPerf', 'cores', 'testDate', 'socket', 'category'],\n",
      "      dtype='object')\n",
      "cpuName : <class 'str'>\n",
      "price : <class 'numpy.float64'>\n",
      "cpuMark : <class 'numpy.int64'>\n",
      "cpuValue : <class 'numpy.float64'>\n",
      "threadMark : <class 'numpy.int64'>\n",
      "threadValue : <class 'numpy.float64'>\n",
      "TDP : <class 'numpy.float64'>\n",
      "powerPerf : <class 'str'>\n",
      "cores : <class 'numpy.int64'>\n",
      "testDate : <class 'numpy.int64'>\n",
      "socket : <class 'str'>\n",
      "category : <class 'str'>\n"
     ]
    }
   ],
   "source": [
    "cols = df.columns\n",
    "print(cols)\n",
    "for col in cols:\n",
    "    print(col+' : '+str(type(df[col][0])))"
   ]
  },
  {
   "cell_type": "markdown",
   "metadata": {},
   "source": [
    "It seems that the 'powerPerf' should be a numerical feature, but the value is stored in string type, so the next thing we need to do is transform the data type of the 'powerPerf' variable from 'str' to 'float64'."
   ]
  },
  {
   "cell_type": "code",
   "execution_count": 6,
   "metadata": {},
   "outputs": [
    {
     "name": "stdout",
     "output_type": "stream",
     "text": [
      "<class 'numpy.float64'>\n"
     ]
    }
   ],
   "source": [
    "for i in df.index:\n",
    "    if isinstance(df.loc[i, 'powerPerf'], str):\n",
    "        slice = df.loc[i, 'powerPerf'].split(\",\")\n",
    "        df.loc[i, 'powerPerf'] = ''.join(slice)\n",
    "\n",
    "df.powerPerf = df.powerPerf.astype('float64')\n",
    "print(str(type(df['powerPerf'][0])))"
   ]
  },
  {
   "cell_type": "markdown",
   "metadata": {},
   "source": [
    "In the processing of this 'powerPerf' feautre, I noticed that there are two data type in this variable, which is float64 and string. Some data are over a thousand, so they need to be separated by commas, and somehow these data was treated as string while the other values smaller than 1,000 are treated as float64 type.\n",
    "\n",
    "After completing the transform, we need to check the situation of the missing values."
   ]
  },
  {
   "cell_type": "code",
   "execution_count": 7,
   "metadata": {},
   "outputs": [
    {
     "data": {
      "text/plain": [
       "cpuName           0\n",
       "price          1858\n",
       "cpuMark           0\n",
       "cpuValue       1858\n",
       "threadMark        0\n",
       "threadValue    1858\n",
       "TDP             685\n",
       "powerPerf       685\n",
       "cores             0\n",
       "testDate          0\n",
       "socket            0\n",
       "category          0\n",
       "dtype: int64"
      ]
     },
     "execution_count": 7,
     "metadata": {},
     "output_type": "execute_result"
    }
   ],
   "source": [
    "df.isna().sum()"
   ]
  },
  {
   "cell_type": "markdown",
   "metadata": {},
   "source": [
    "The total amount of the dataset is 3825, and from the result we could see that the number of missing values accounted for nearly 50% of the whole dataset, which means ignoring these missing values is the worst thing to do. Here, I will use the mean value to do the data imputation. The reason that mean value is used to do the imputation here is that 'price', 'cpuValue', 'ThreadValue', 'TDP', 'powerPerf' are all numeric variables."
   ]
  },
  {
   "cell_type": "code",
   "execution_count": 11,
   "metadata": {},
   "outputs": [
    {
     "data": {
      "text/html": [
       "<div>\n",
       "<style scoped>\n",
       "    .dataframe tbody tr th:only-of-type {\n",
       "        vertical-align: middle;\n",
       "    }\n",
       "\n",
       "    .dataframe tbody tr th {\n",
       "        vertical-align: top;\n",
       "    }\n",
       "\n",
       "    .dataframe thead th {\n",
       "        text-align: right;\n",
       "    }\n",
       "</style>\n",
       "<table border=\"1\" class=\"dataframe\">\n",
       "  <thead>\n",
       "    <tr style=\"text-align: right;\">\n",
       "      <th></th>\n",
       "      <th>cpuName</th>\n",
       "      <th>price</th>\n",
       "      <th>cpuMark</th>\n",
       "      <th>cpuValue</th>\n",
       "      <th>threadMark</th>\n",
       "      <th>threadValue</th>\n",
       "      <th>TDP</th>\n",
       "      <th>powerPerf</th>\n",
       "      <th>cores</th>\n",
       "      <th>testDate</th>\n",
       "      <th>socket</th>\n",
       "      <th>category</th>\n",
       "    </tr>\n",
       "  </thead>\n",
       "  <tbody>\n",
       "    <tr>\n",
       "      <th>0</th>\n",
       "      <td>AMD Ryzen Threadripper PRO 5995WX</td>\n",
       "      <td>NaN</td>\n",
       "      <td>108822</td>\n",
       "      <td>NaN</td>\n",
       "      <td>3330</td>\n",
       "      <td>NaN</td>\n",
       "      <td>280.0</td>\n",
       "      <td>388.65</td>\n",
       "      <td>64</td>\n",
       "      <td>2022</td>\n",
       "      <td>sWRX8</td>\n",
       "      <td>Desktop</td>\n",
       "    </tr>\n",
       "    <tr>\n",
       "      <th>2</th>\n",
       "      <td>AMD EPYC 7J13</td>\n",
       "      <td>NaN</td>\n",
       "      <td>86006</td>\n",
       "      <td>NaN</td>\n",
       "      <td>2387</td>\n",
       "      <td>NaN</td>\n",
       "      <td>NaN</td>\n",
       "      <td>NaN</td>\n",
       "      <td>64</td>\n",
       "      <td>2021</td>\n",
       "      <td>unknown</td>\n",
       "      <td>Server</td>\n",
       "    </tr>\n",
       "    <tr>\n",
       "      <th>6</th>\n",
       "      <td>AMD Ryzen Threadripper PRO 5975WX</td>\n",
       "      <td>NaN</td>\n",
       "      <td>80842</td>\n",
       "      <td>NaN</td>\n",
       "      <td>3340</td>\n",
       "      <td>NaN</td>\n",
       "      <td>280.0</td>\n",
       "      <td>288.72</td>\n",
       "      <td>32</td>\n",
       "      <td>2022</td>\n",
       "      <td>sWRX8</td>\n",
       "      <td>Desktop</td>\n",
       "    </tr>\n",
       "    <tr>\n",
       "      <th>7</th>\n",
       "      <td>AMD EPYC 7B13</td>\n",
       "      <td>NaN</td>\n",
       "      <td>77460</td>\n",
       "      <td>NaN</td>\n",
       "      <td>2564</td>\n",
       "      <td>NaN</td>\n",
       "      <td>NaN</td>\n",
       "      <td>NaN</td>\n",
       "      <td>60</td>\n",
       "      <td>2021</td>\n",
       "      <td>unknown</td>\n",
       "      <td>Server</td>\n",
       "    </tr>\n",
       "    <tr>\n",
       "      <th>12</th>\n",
       "      <td>AMD EPYC 75F3</td>\n",
       "      <td>NaN</td>\n",
       "      <td>68505</td>\n",
       "      <td>NaN</td>\n",
       "      <td>2775</td>\n",
       "      <td>NaN</td>\n",
       "      <td>280.0</td>\n",
       "      <td>244.66</td>\n",
       "      <td>32</td>\n",
       "      <td>2021</td>\n",
       "      <td>SP3</td>\n",
       "      <td>Server</td>\n",
       "    </tr>\n",
       "    <tr>\n",
       "      <th>...</th>\n",
       "      <td>...</td>\n",
       "      <td>...</td>\n",
       "      <td>...</td>\n",
       "      <td>...</td>\n",
       "      <td>...</td>\n",
       "      <td>...</td>\n",
       "      <td>...</td>\n",
       "      <td>...</td>\n",
       "      <td>...</td>\n",
       "      <td>...</td>\n",
       "      <td>...</td>\n",
       "      <td>...</td>\n",
       "    </tr>\n",
       "    <tr>\n",
       "      <th>3820</th>\n",
       "      <td>Intel Pentium 4 1.60GHz</td>\n",
       "      <td>NaN</td>\n",
       "      <td>84</td>\n",
       "      <td>NaN</td>\n",
       "      <td>225</td>\n",
       "      <td>NaN</td>\n",
       "      <td>38.0</td>\n",
       "      <td>2.22</td>\n",
       "      <td>1</td>\n",
       "      <td>2009</td>\n",
       "      <td>PGA478</td>\n",
       "      <td>Desktop</td>\n",
       "    </tr>\n",
       "    <tr>\n",
       "      <th>3821</th>\n",
       "      <td>Intel Pentium 4 1400MHz</td>\n",
       "      <td>NaN</td>\n",
       "      <td>83</td>\n",
       "      <td>NaN</td>\n",
       "      <td>180</td>\n",
       "      <td>NaN</td>\n",
       "      <td>54.7</td>\n",
       "      <td>1.52</td>\n",
       "      <td>1</td>\n",
       "      <td>2009</td>\n",
       "      <td>PGA423</td>\n",
       "      <td>Desktop</td>\n",
       "    </tr>\n",
       "    <tr>\n",
       "      <th>3822</th>\n",
       "      <td>Intel Pentium 4 1500MHz</td>\n",
       "      <td>NaN</td>\n",
       "      <td>81</td>\n",
       "      <td>NaN</td>\n",
       "      <td>223</td>\n",
       "      <td>NaN</td>\n",
       "      <td>57.8</td>\n",
       "      <td>1.41</td>\n",
       "      <td>1</td>\n",
       "      <td>2009</td>\n",
       "      <td>PGA423</td>\n",
       "      <td>Desktop</td>\n",
       "    </tr>\n",
       "    <tr>\n",
       "      <th>3823</th>\n",
       "      <td>VIA Eden 1000MHz</td>\n",
       "      <td>NaN</td>\n",
       "      <td>80</td>\n",
       "      <td>NaN</td>\n",
       "      <td>83</td>\n",
       "      <td>NaN</td>\n",
       "      <td>5.0</td>\n",
       "      <td>16.08</td>\n",
       "      <td>1</td>\n",
       "      <td>2017</td>\n",
       "      <td>NanoBGA2</td>\n",
       "      <td>Laptop</td>\n",
       "    </tr>\n",
       "    <tr>\n",
       "      <th>3824</th>\n",
       "      <td>Intel Pentium 4 1300MHz</td>\n",
       "      <td>NaN</td>\n",
       "      <td>77</td>\n",
       "      <td>NaN</td>\n",
       "      <td>203</td>\n",
       "      <td>NaN</td>\n",
       "      <td>51.6</td>\n",
       "      <td>1.50</td>\n",
       "      <td>1</td>\n",
       "      <td>2009</td>\n",
       "      <td>PGA423</td>\n",
       "      <td>Desktop</td>\n",
       "    </tr>\n",
       "  </tbody>\n",
       "</table>\n",
       "<p>1858 rows × 12 columns</p>\n",
       "</div>"
      ],
      "text/plain": [
       "                                cpuName  price  cpuMark  cpuValue  threadMark  \\\n",
       "0     AMD Ryzen Threadripper PRO 5995WX    NaN   108822       NaN        3330   \n",
       "2                         AMD EPYC 7J13    NaN    86006       NaN        2387   \n",
       "6     AMD Ryzen Threadripper PRO 5975WX    NaN    80842       NaN        3340   \n",
       "7                         AMD EPYC 7B13    NaN    77460       NaN        2564   \n",
       "12                        AMD EPYC 75F3    NaN    68505       NaN        2775   \n",
       "...                                 ...    ...      ...       ...         ...   \n",
       "3820            Intel Pentium 4 1.60GHz    NaN       84       NaN         225   \n",
       "3821            Intel Pentium 4 1400MHz    NaN       83       NaN         180   \n",
       "3822            Intel Pentium 4 1500MHz    NaN       81       NaN         223   \n",
       "3823                   VIA Eden 1000MHz    NaN       80       NaN          83   \n",
       "3824            Intel Pentium 4 1300MHz    NaN       77       NaN         203   \n",
       "\n",
       "      threadValue    TDP  powerPerf  cores  testDate    socket category  \n",
       "0             NaN  280.0     388.65     64      2022     sWRX8  Desktop  \n",
       "2             NaN    NaN        NaN     64      2021   unknown   Server  \n",
       "6             NaN  280.0     288.72     32      2022     sWRX8  Desktop  \n",
       "7             NaN    NaN        NaN     60      2021   unknown   Server  \n",
       "12            NaN  280.0     244.66     32      2021       SP3   Server  \n",
       "...           ...    ...        ...    ...       ...       ...      ...  \n",
       "3820          NaN   38.0       2.22      1      2009    PGA478  Desktop  \n",
       "3821          NaN   54.7       1.52      1      2009    PGA423  Desktop  \n",
       "3822          NaN   57.8       1.41      1      2009    PGA423  Desktop  \n",
       "3823          NaN    5.0      16.08      1      2017  NanoBGA2   Laptop  \n",
       "3824          NaN   51.6       1.50      1      2009    PGA423  Desktop  \n",
       "\n",
       "[1858 rows x 12 columns]"
      ]
     },
     "execution_count": 11,
     "metadata": {},
     "output_type": "execute_result"
    }
   ],
   "source": [
    "df[df.loc[:, ['price', 'cpuValue', 'threadValue']].isna().T.any()]"
   ]
  },
  {
   "cell_type": "code",
   "execution_count": 12,
   "metadata": {},
   "outputs": [
    {
     "data": {
      "text/html": [
       "<div>\n",
       "<style scoped>\n",
       "    .dataframe tbody tr th:only-of-type {\n",
       "        vertical-align: middle;\n",
       "    }\n",
       "\n",
       "    .dataframe tbody tr th {\n",
       "        vertical-align: top;\n",
       "    }\n",
       "\n",
       "    .dataframe thead th {\n",
       "        text-align: right;\n",
       "    }\n",
       "</style>\n",
       "<table border=\"1\" class=\"dataframe\">\n",
       "  <thead>\n",
       "    <tr style=\"text-align: right;\">\n",
       "      <th></th>\n",
       "      <th>cpuName</th>\n",
       "      <th>price</th>\n",
       "      <th>cpuMark</th>\n",
       "      <th>cpuValue</th>\n",
       "      <th>threadMark</th>\n",
       "      <th>threadValue</th>\n",
       "      <th>TDP</th>\n",
       "      <th>powerPerf</th>\n",
       "      <th>cores</th>\n",
       "      <th>testDate</th>\n",
       "      <th>socket</th>\n",
       "      <th>category</th>\n",
       "    </tr>\n",
       "  </thead>\n",
       "  <tbody>\n",
       "    <tr>\n",
       "      <th>2</th>\n",
       "      <td>AMD EPYC 7J13</td>\n",
       "      <td>NaN</td>\n",
       "      <td>86006</td>\n",
       "      <td>NaN</td>\n",
       "      <td>2387</td>\n",
       "      <td>NaN</td>\n",
       "      <td>NaN</td>\n",
       "      <td>NaN</td>\n",
       "      <td>64</td>\n",
       "      <td>2021</td>\n",
       "      <td>unknown</td>\n",
       "      <td>Server</td>\n",
       "    </tr>\n",
       "    <tr>\n",
       "      <th>7</th>\n",
       "      <td>AMD EPYC 7B13</td>\n",
       "      <td>NaN</td>\n",
       "      <td>77460</td>\n",
       "      <td>NaN</td>\n",
       "      <td>2564</td>\n",
       "      <td>NaN</td>\n",
       "      <td>NaN</td>\n",
       "      <td>NaN</td>\n",
       "      <td>60</td>\n",
       "      <td>2021</td>\n",
       "      <td>unknown</td>\n",
       "      <td>Server</td>\n",
       "    </tr>\n",
       "    <tr>\n",
       "      <th>16</th>\n",
       "      <td>AMD EPYC 7R32</td>\n",
       "      <td>NaN</td>\n",
       "      <td>64727</td>\n",
       "      <td>NaN</td>\n",
       "      <td>1922</td>\n",
       "      <td>NaN</td>\n",
       "      <td>NaN</td>\n",
       "      <td>NaN</td>\n",
       "      <td>48</td>\n",
       "      <td>2020</td>\n",
       "      <td>unknown</td>\n",
       "      <td>Server</td>\n",
       "    </tr>\n",
       "    <tr>\n",
       "      <th>57</th>\n",
       "      <td>Intel Xeon Platinum 8275CL @ 3.00GHz</td>\n",
       "      <td>NaN</td>\n",
       "      <td>40794</td>\n",
       "      <td>NaN</td>\n",
       "      <td>2386</td>\n",
       "      <td>NaN</td>\n",
       "      <td>NaN</td>\n",
       "      <td>NaN</td>\n",
       "      <td>24</td>\n",
       "      <td>2019</td>\n",
       "      <td>unknown</td>\n",
       "      <td>Server</td>\n",
       "    </tr>\n",
       "    <tr>\n",
       "      <th>68</th>\n",
       "      <td>ARM Neoverse-N1 80 Core 3000 MHz</td>\n",
       "      <td>NaN</td>\n",
       "      <td>38122</td>\n",
       "      <td>NaN</td>\n",
       "      <td>1329</td>\n",
       "      <td>NaN</td>\n",
       "      <td>NaN</td>\n",
       "      <td>NaN</td>\n",
       "      <td>80</td>\n",
       "      <td>2021</td>\n",
       "      <td>unknown</td>\n",
       "      <td>Unknown</td>\n",
       "    </tr>\n",
       "    <tr>\n",
       "      <th>...</th>\n",
       "      <td>...</td>\n",
       "      <td>...</td>\n",
       "      <td>...</td>\n",
       "      <td>...</td>\n",
       "      <td>...</td>\n",
       "      <td>...</td>\n",
       "      <td>...</td>\n",
       "      <td>...</td>\n",
       "      <td>...</td>\n",
       "      <td>...</td>\n",
       "      <td>...</td>\n",
       "      <td>...</td>\n",
       "    </tr>\n",
       "    <tr>\n",
       "      <th>3810</th>\n",
       "      <td>Intel Celeron 1.70GHz</td>\n",
       "      <td>NaN</td>\n",
       "      <td>101</td>\n",
       "      <td>NaN</td>\n",
       "      <td>190</td>\n",
       "      <td>NaN</td>\n",
       "      <td>NaN</td>\n",
       "      <td>NaN</td>\n",
       "      <td>1</td>\n",
       "      <td>2009</td>\n",
       "      <td>unknown</td>\n",
       "      <td>Unknown</td>\n",
       "    </tr>\n",
       "    <tr>\n",
       "      <th>3811</th>\n",
       "      <td>VIA Nehemiah</td>\n",
       "      <td>NaN</td>\n",
       "      <td>101</td>\n",
       "      <td>NaN</td>\n",
       "      <td>75</td>\n",
       "      <td>NaN</td>\n",
       "      <td>NaN</td>\n",
       "      <td>NaN</td>\n",
       "      <td>1</td>\n",
       "      <td>2011</td>\n",
       "      <td>unknown</td>\n",
       "      <td>Unknown</td>\n",
       "    </tr>\n",
       "    <tr>\n",
       "      <th>3813</th>\n",
       "      <td>Intel Pentium III Mobile 866MHz</td>\n",
       "      <td>NaN</td>\n",
       "      <td>99</td>\n",
       "      <td>NaN</td>\n",
       "      <td>132</td>\n",
       "      <td>NaN</td>\n",
       "      <td>NaN</td>\n",
       "      <td>NaN</td>\n",
       "      <td>1</td>\n",
       "      <td>2009</td>\n",
       "      <td>unknown</td>\n",
       "      <td>Laptop</td>\n",
       "    </tr>\n",
       "    <tr>\n",
       "      <th>3815</th>\n",
       "      <td>VIA Esther 1000MHz</td>\n",
       "      <td>NaN</td>\n",
       "      <td>95</td>\n",
       "      <td>NaN</td>\n",
       "      <td>82</td>\n",
       "      <td>NaN</td>\n",
       "      <td>NaN</td>\n",
       "      <td>NaN</td>\n",
       "      <td>1</td>\n",
       "      <td>2011</td>\n",
       "      <td>unknown</td>\n",
       "      <td>Unknown</td>\n",
       "    </tr>\n",
       "    <tr>\n",
       "      <th>3817</th>\n",
       "      <td>ARM Cortex-A7 2 Core 960 MHz</td>\n",
       "      <td>NaN</td>\n",
       "      <td>93</td>\n",
       "      <td>NaN</td>\n",
       "      <td>140</td>\n",
       "      <td>NaN</td>\n",
       "      <td>NaN</td>\n",
       "      <td>NaN</td>\n",
       "      <td>2</td>\n",
       "      <td>2021</td>\n",
       "      <td>unknown</td>\n",
       "      <td>Unknown</td>\n",
       "    </tr>\n",
       "  </tbody>\n",
       "</table>\n",
       "<p>685 rows × 12 columns</p>\n",
       "</div>"
      ],
      "text/plain": [
       "                                   cpuName  price  cpuMark  cpuValue  \\\n",
       "2                            AMD EPYC 7J13    NaN    86006       NaN   \n",
       "7                            AMD EPYC 7B13    NaN    77460       NaN   \n",
       "16                           AMD EPYC 7R32    NaN    64727       NaN   \n",
       "57    Intel Xeon Platinum 8275CL @ 3.00GHz    NaN    40794       NaN   \n",
       "68        ARM Neoverse-N1 80 Core 3000 MHz    NaN    38122       NaN   \n",
       "...                                    ...    ...      ...       ...   \n",
       "3810                 Intel Celeron 1.70GHz    NaN      101       NaN   \n",
       "3811                          VIA Nehemiah    NaN      101       NaN   \n",
       "3813       Intel Pentium III Mobile 866MHz    NaN       99       NaN   \n",
       "3815                    VIA Esther 1000MHz    NaN       95       NaN   \n",
       "3817          ARM Cortex-A7 2 Core 960 MHz    NaN       93       NaN   \n",
       "\n",
       "      threadMark  threadValue  TDP  powerPerf  cores  testDate   socket  \\\n",
       "2           2387          NaN  NaN        NaN     64      2021  unknown   \n",
       "7           2564          NaN  NaN        NaN     60      2021  unknown   \n",
       "16          1922          NaN  NaN        NaN     48      2020  unknown   \n",
       "57          2386          NaN  NaN        NaN     24      2019  unknown   \n",
       "68          1329          NaN  NaN        NaN     80      2021  unknown   \n",
       "...          ...          ...  ...        ...    ...       ...      ...   \n",
       "3810         190          NaN  NaN        NaN      1      2009  unknown   \n",
       "3811          75          NaN  NaN        NaN      1      2011  unknown   \n",
       "3813         132          NaN  NaN        NaN      1      2009  unknown   \n",
       "3815          82          NaN  NaN        NaN      1      2011  unknown   \n",
       "3817         140          NaN  NaN        NaN      2      2021  unknown   \n",
       "\n",
       "     category  \n",
       "2      Server  \n",
       "7      Server  \n",
       "16     Server  \n",
       "57     Server  \n",
       "68    Unknown  \n",
       "...       ...  \n",
       "3810  Unknown  \n",
       "3811  Unknown  \n",
       "3813   Laptop  \n",
       "3815  Unknown  \n",
       "3817  Unknown  \n",
       "\n",
       "[685 rows x 12 columns]"
      ]
     },
     "execution_count": 12,
     "metadata": {},
     "output_type": "execute_result"
    }
   ],
   "source": [
    "df[df.loc[:, ['TDP', 'powerPerf']].isna().T.any()]"
   ]
  },
  {
   "cell_type": "markdown",
   "metadata": {},
   "source": [
    "The results above are just double checking if the null value is in the same column and from the results the answer is yes. Now we could do the imputation."
   ]
  },
  {
   "cell_type": "code",
   "execution_count": 15,
   "metadata": {},
   "outputs": [],
   "source": [
    "price_mean = np.mean(df.price)\n",
    "null_col = df[df['price'].isna()].index\n",
    "df.loc[null_col, 'price'] = price_mean\n",
    "\n",
    "cpuV_mean = np.mean(df.cpuValue)\n",
    "null_col = df[df['cpuValue'].isna()].index\n",
    "df.loc[null_col, 'cpuValue'] = cpuV_mean\n",
    "\n",
    "threadV_mean = np.mean(df.threadValue)\n",
    "null_col = df[df['threadValue'].isna()].index\n",
    "df.loc[null_col, 'threadValue'] = threadV_mean\n",
    "\n",
    "TDP_mean = np.mean(df.TDP)\n",
    "null_col = df[df['TDP'].isna()].index\n",
    "df.loc[null_col, 'TDP'] = TDP_mean\n",
    "\n",
    "power_mean = np.mean(df.powerPerf)\n",
    "null_col = df[df['powerPerf'].isna()].index\n",
    "df.loc[null_col, 'powerPerf'] = power_mean"
   ]
  },
  {
   "cell_type": "markdown",
   "metadata": {},
   "source": [
    "Now let us check the numeric null values again."
   ]
  },
  {
   "cell_type": "code",
   "execution_count": 16,
   "metadata": {},
   "outputs": [
    {
     "data": {
      "text/plain": [
       "cpuName        0\n",
       "price          0\n",
       "cpuMark        0\n",
       "cpuValue       0\n",
       "threadMark     0\n",
       "threadValue    0\n",
       "TDP            0\n",
       "powerPerf      0\n",
       "cores          0\n",
       "testDate       0\n",
       "socket         0\n",
       "category       0\n",
       "dtype: int64"
      ]
     },
     "execution_count": 16,
     "metadata": {},
     "output_type": "execute_result"
    }
   ],
   "source": [
    "df.isna().sum()"
   ]
  },
  {
   "cell_type": "markdown",
   "metadata": {},
   "source": [
    "We could find that there is no any numerical null values now. However, I noticed that there are also some 'unknown' and 'Unknown' values in 'socket' and 'category' variables, so let's check the number of it."
   ]
  },
  {
   "cell_type": "code",
   "execution_count": 20,
   "metadata": {},
   "outputs": [
    {
     "data": {
      "text/plain": [
       "Laptop                              1147\n",
       "Desktop                             1141\n",
       "Server                               784\n",
       "Mobile/Embedded                      425\n",
       "Unknown                              260\n",
       "Laptop, Mobile/Embedded               29\n",
       "Desktop, Laptop                       12\n",
       "Laptop, Server                        11\n",
       "Desktop, Server                        7\n",
       "Desktop, Mobile/Embedded               5\n",
       "Server, Mobile/Embedded                3\n",
       "Desktop, Laptop, Mobile/Embedded       1\n",
       "Name: category, dtype: int64"
      ]
     },
     "execution_count": 20,
     "metadata": {},
     "output_type": "execute_result"
    }
   ],
   "source": [
    "df.loc[:, 'category'].value_counts()"
   ]
  },
  {
   "cell_type": "markdown",
   "metadata": {},
   "source": [
    "In category variables, the number of the 'Unknown' value is not very large, so I just simply replace these 'Unknown' values with the 'Laptop' value, which occurs the most in the dataset."
   ]
  },
  {
   "cell_type": "code",
   "execution_count": 22,
   "metadata": {},
   "outputs": [
    {
     "data": {
      "text/plain": [
       "Laptop                              1407\n",
       "Desktop                             1141\n",
       "Server                               784\n",
       "Mobile/Embedded                      425\n",
       "Laptop, Mobile/Embedded               29\n",
       "Desktop, Laptop                       12\n",
       "Laptop, Server                        11\n",
       "Desktop, Server                        7\n",
       "Desktop, Mobile/Embedded               5\n",
       "Server, Mobile/Embedded                3\n",
       "Desktop, Laptop, Mobile/Embedded       1\n",
       "Name: category, dtype: int64"
      ]
     },
     "execution_count": 22,
     "metadata": {},
     "output_type": "execute_result"
    }
   ],
   "source": [
    "df.loc[:, 'category'].replace('Unknown', 'Laptop', inplace=True)\n",
    "df.loc[:, 'category'].value_counts()"
   ]
  },
  {
   "cell_type": "code",
   "execution_count": 21,
   "metadata": {},
   "outputs": [
    {
     "data": {
      "text/plain": [
       "unknown      788\n",
       "AM4          133\n",
       "LGA1155      103\n",
       "FCLGA1200     97\n",
       "LGA775        89\n",
       "            ... \n",
       "AM2,AM2+       1\n",
       "FCBGA2227      1\n",
       "FS1 uPGA       1\n",
       "LGA2011-1      1\n",
       "FT5            1\n",
       "Name: socket, Length: 203, dtype: int64"
      ]
     },
     "execution_count": 21,
     "metadata": {},
     "output_type": "execute_result"
    }
   ],
   "source": [
    "df.loc[:, 'socket'].value_counts()"
   ]
  },
  {
   "cell_type": "markdown",
   "metadata": {},
   "source": [
    "In the 'socket' variable, we can see that the number of 'unknown' value already far exceeds the amount of other data, so it's a corrupted data to some extend. Thus, I plan not to use this column and just throw it away."
   ]
  },
  {
   "cell_type": "code",
   "execution_count": 23,
   "metadata": {},
   "outputs": [],
   "source": [
    "df.drop(['socket'], axis=1, inplace=True)"
   ]
  },
  {
   "cell_type": "markdown",
   "metadata": {},
   "source": [
    "So far, the data preprocessing work has been completed. Next, we need to clarify the question we want to explore."
   ]
  },
  {
   "cell_type": "markdown",
   "metadata": {},
   "source": [
    "### 1.2 Defining the task"
   ]
  },
  {
   "cell_type": "markdown",
   "metadata": {},
   "source": [
    "In these variables, the price always gets the most attention. Thus, I want to use CUP's performance parameters to predict expected price. This means that the linear regression model and polynomial linear regression model is suitable for this question because we want to get a numeric result from a serise numeric input dataset.\n",
    "\n",
    "The first thing I need to do is to clarify the input dataset and the output. Obviously, the output here is the 'price' variable, and the input dataset should be the performance parameters including 'cpuMark', 'cpuValue', 'threadMark', 'threadValue', 'TDP', 'powerPerf' and 'cores'.\n",
    "\n",
    "The second thing I want to explore is to use the performance parameters to predict what category the CPU is and I plan to use MLP to do the classification and do some experiments about the hyperparameters."
   ]
  },
  {
   "cell_type": "code",
   "execution_count": 27,
   "metadata": {},
   "outputs": [],
   "source": [
    "x = df.iloc[:, [2, 3, 4, 5, 6, 7, 8]]\n",
    "y = df.loc[:, 'price']"
   ]
  },
  {
   "cell_type": "code",
   "execution_count": 28,
   "metadata": {},
   "outputs": [
    {
     "data": {
      "text/html": [
       "<div>\n",
       "<style scoped>\n",
       "    .dataframe tbody tr th:only-of-type {\n",
       "        vertical-align: middle;\n",
       "    }\n",
       "\n",
       "    .dataframe tbody tr th {\n",
       "        vertical-align: top;\n",
       "    }\n",
       "\n",
       "    .dataframe thead th {\n",
       "        text-align: right;\n",
       "    }\n",
       "</style>\n",
       "<table border=\"1\" class=\"dataframe\">\n",
       "  <thead>\n",
       "    <tr style=\"text-align: right;\">\n",
       "      <th></th>\n",
       "      <th>cpuMark</th>\n",
       "      <th>cpuValue</th>\n",
       "      <th>threadMark</th>\n",
       "      <th>threadValue</th>\n",
       "      <th>TDP</th>\n",
       "      <th>powerPerf</th>\n",
       "      <th>cores</th>\n",
       "    </tr>\n",
       "  </thead>\n",
       "  <tbody>\n",
       "    <tr>\n",
       "      <th>0</th>\n",
       "      <td>108822</td>\n",
       "      <td>35.354911</td>\n",
       "      <td>3330</td>\n",
       "      <td>15.189009</td>\n",
       "      <td>280.000000</td>\n",
       "      <td>388.650000</td>\n",
       "      <td>64</td>\n",
       "    </tr>\n",
       "    <tr>\n",
       "      <th>1</th>\n",
       "      <td>88338</td>\n",
       "      <td>12.100000</td>\n",
       "      <td>2635</td>\n",
       "      <td>0.360000</td>\n",
       "      <td>280.000000</td>\n",
       "      <td>315.490000</td>\n",
       "      <td>64</td>\n",
       "    </tr>\n",
       "    <tr>\n",
       "      <th>2</th>\n",
       "      <td>86006</td>\n",
       "      <td>35.354911</td>\n",
       "      <td>2387</td>\n",
       "      <td>15.189009</td>\n",
       "      <td>62.375557</td>\n",
       "      <td>121.623239</td>\n",
       "      <td>64</td>\n",
       "    </tr>\n",
       "    <tr>\n",
       "      <th>3</th>\n",
       "      <td>85861</td>\n",
       "      <td>12.160000</td>\n",
       "      <td>2727</td>\n",
       "      <td>0.390000</td>\n",
       "      <td>225.000000</td>\n",
       "      <td>381.600000</td>\n",
       "      <td>64</td>\n",
       "    </tr>\n",
       "    <tr>\n",
       "      <th>4</th>\n",
       "      <td>83971</td>\n",
       "      <td>12.330000</td>\n",
       "      <td>2626</td>\n",
       "      <td>0.390000</td>\n",
       "      <td>280.000000</td>\n",
       "      <td>299.900000</td>\n",
       "      <td>64</td>\n",
       "    </tr>\n",
       "    <tr>\n",
       "      <th>...</th>\n",
       "      <td>...</td>\n",
       "      <td>...</td>\n",
       "      <td>...</td>\n",
       "      <td>...</td>\n",
       "      <td>...</td>\n",
       "      <td>...</td>\n",
       "      <td>...</td>\n",
       "    </tr>\n",
       "    <tr>\n",
       "      <th>3820</th>\n",
       "      <td>84</td>\n",
       "      <td>35.354911</td>\n",
       "      <td>225</td>\n",
       "      <td>15.189009</td>\n",
       "      <td>38.000000</td>\n",
       "      <td>2.220000</td>\n",
       "      <td>1</td>\n",
       "    </tr>\n",
       "    <tr>\n",
       "      <th>3821</th>\n",
       "      <td>83</td>\n",
       "      <td>35.354911</td>\n",
       "      <td>180</td>\n",
       "      <td>15.189009</td>\n",
       "      <td>54.700000</td>\n",
       "      <td>1.520000</td>\n",
       "      <td>1</td>\n",
       "    </tr>\n",
       "    <tr>\n",
       "      <th>3822</th>\n",
       "      <td>81</td>\n",
       "      <td>35.354911</td>\n",
       "      <td>223</td>\n",
       "      <td>15.189009</td>\n",
       "      <td>57.800000</td>\n",
       "      <td>1.410000</td>\n",
       "      <td>1</td>\n",
       "    </tr>\n",
       "    <tr>\n",
       "      <th>3823</th>\n",
       "      <td>80</td>\n",
       "      <td>35.354911</td>\n",
       "      <td>83</td>\n",
       "      <td>15.189009</td>\n",
       "      <td>5.000000</td>\n",
       "      <td>16.080000</td>\n",
       "      <td>1</td>\n",
       "    </tr>\n",
       "    <tr>\n",
       "      <th>3824</th>\n",
       "      <td>77</td>\n",
       "      <td>35.354911</td>\n",
       "      <td>203</td>\n",
       "      <td>15.189009</td>\n",
       "      <td>51.600000</td>\n",
       "      <td>1.500000</td>\n",
       "      <td>1</td>\n",
       "    </tr>\n",
       "  </tbody>\n",
       "</table>\n",
       "<p>3825 rows × 7 columns</p>\n",
       "</div>"
      ],
      "text/plain": [
       "      cpuMark   cpuValue  threadMark  threadValue         TDP   powerPerf  \\\n",
       "0      108822  35.354911        3330    15.189009  280.000000  388.650000   \n",
       "1       88338  12.100000        2635     0.360000  280.000000  315.490000   \n",
       "2       86006  35.354911        2387    15.189009   62.375557  121.623239   \n",
       "3       85861  12.160000        2727     0.390000  225.000000  381.600000   \n",
       "4       83971  12.330000        2626     0.390000  280.000000  299.900000   \n",
       "...       ...        ...         ...          ...         ...         ...   \n",
       "3820       84  35.354911         225    15.189009   38.000000    2.220000   \n",
       "3821       83  35.354911         180    15.189009   54.700000    1.520000   \n",
       "3822       81  35.354911         223    15.189009   57.800000    1.410000   \n",
       "3823       80  35.354911          83    15.189009    5.000000   16.080000   \n",
       "3824       77  35.354911         203    15.189009   51.600000    1.500000   \n",
       "\n",
       "      cores  \n",
       "0        64  \n",
       "1        64  \n",
       "2        64  \n",
       "3        64  \n",
       "4        64  \n",
       "...     ...  \n",
       "3820      1  \n",
       "3821      1  \n",
       "3822      1  \n",
       "3823      1  \n",
       "3824      1  \n",
       "\n",
       "[3825 rows x 7 columns]"
      ]
     },
     "execution_count": 28,
     "metadata": {},
     "output_type": "execute_result"
    }
   ],
   "source": [
    "x"
   ]
  },
  {
   "cell_type": "code",
   "execution_count": 29,
   "metadata": {},
   "outputs": [
    {
     "data": {
      "text/plain": [
       "0        441.500946\n",
       "1       7299.990000\n",
       "2        441.500946\n",
       "3       7060.000000\n",
       "4       6807.980000\n",
       "           ...     \n",
       "3820     441.500946\n",
       "3821     441.500946\n",
       "3822     441.500946\n",
       "3823     441.500946\n",
       "3824     441.500946\n",
       "Name: price, Length: 3825, dtype: float64"
      ]
     },
     "execution_count": 29,
     "metadata": {},
     "output_type": "execute_result"
    }
   ],
   "source": [
    "y"
   ]
  },
  {
   "cell_type": "markdown",
   "metadata": {},
   "source": [
    "# 2. Data analysis"
   ]
  },
  {
   "cell_type": "markdown",
   "metadata": {},
   "source": [
    "After getting the input and output dataset, the next thing we need to do is to check the correlation between the input dataset to choose the chracters."
   ]
  },
  {
   "cell_type": "code",
   "execution_count": 31,
   "metadata": {},
   "outputs": [
    {
     "data": {
      "text/plain": [
       "<AxesSubplot:>"
      ]
     },
     "execution_count": 31,
     "metadata": {},
     "output_type": "execute_result"
    },
    {
     "data": {
      "image/png": "[encoded data removed]",
      "text/plain": [
       "<Figure size 1152x720 with 1 Axes>"
      ]
     },
     "metadata": {},
     "output_type": "display_data"
    }
   ],
   "source": [
    "sns.set(rc = {'figure.figsize':(16, 10)})\n",
    "sns.heatmap(x.corr(), annot = True, linewidths = 5, center = 0, cbar = False, cmap = 'PiYG')"
   ]
  },
  {
   "cell_type": "markdown",
   "metadata": {},
   "source": [
    "Here, I define a threshold of 0.8 correlation coefficient to judge the pairs with high correlation. Those variables with high correlation need to be deleted because the size of the coherence of the initial data has a greater impact on the results, and it is likely to cause data redundancy. From the heatmap above we can observe that the correlation coefficient between 'cpuMark' and 'cores' is 0.81, which means there is a high correlation between these two variables. Thus I decide to delet the 'cores' term."
   ]
  },
  {
   "cell_type": "code",
   "execution_count": 32,
   "metadata": {},
   "outputs": [
    {
     "name": "stderr",
     "output_type": "stream",
     "text": [
      "d:\\Applications\\Pyrhon37\\lib\\site-packages\\pandas\\core\\frame.py:4913: SettingWithCopyWarning: \n",
      "A value is trying to be set on a copy of a slice from a DataFrame\n",
      "\n",
      "See the caveats in the documentation: https://pandas.pydata.org/pandas-docs/stable/user_guide/indexing.html#returning-a-view-versus-a-copy\n",
      "  errors=errors,\n"
     ]
    }
   ],
   "source": [
    "x.drop(['cores'], axis=1, inplace=True)"
   ]
  },
  {
   "cell_type": "markdown",
   "metadata": {},
   "source": [
    "Sice we have two optional model here, we should use the train-validation-test patter to split the dataset by the proportion of 8:1:1. The training set is used to train each model. The validation set is used to choose the best performance in each model. Last the test set needs to be used to choose the best performanced model."
   ]
  },
  {
   "cell_type": "code",
   "execution_count": 33,
   "metadata": {},
   "outputs": [],
   "source": [
    "from sklearn.model_selection import train_test_split\n",
    "\n",
    "x_train, x_test, y_train, y_test = train_test_split(x, y, train_size=0.9, random_state=1)\n",
    "x_train, x_val, y_train, y_val = train_test_split(x_train, y_train, test_size=0.1, random_state=1)"
   ]
  },
  {
   "cell_type": "markdown",
   "metadata": {},
   "source": [
    "### 2.1 Linear regression model"
   ]
  },
  {
   "cell_type": "code",
   "execution_count": 45,
   "metadata": {},
   "outputs": [
    {
     "name": "stdout",
     "output_type": "stream",
     "text": [
      "290150.023344285\n"
     ]
    }
   ],
   "source": [
    "from sklearn.linear_model import LinearRegression\n",
    "from sklearn.metrics import mean_squared_error\n",
    "\n",
    "lm = LinearRegression()\n",
    "lm.fit(x_train, y_train)\n",
    "y_predict = lm.predict(x_val)\n",
    "\n",
    "# 评估模型\n",
    "mse = mean_squared_error(y_val, y_predict)\n",
    "print(mse)"
   ]
  },
  {
   "cell_type": "markdown",
   "metadata": {},
   "source": [
    "Here we got a MSE = 290150.023344285 by the validation set. Let's check the model's coefficient to see how much the variables affect the model."
   ]
  },
  {
   "cell_type": "code",
   "execution_count": 46,
   "metadata": {},
   "outputs": [
    {
     "name": "stdout",
     "output_type": "stream",
     "text": [
      "[ 0.0427376  -5.08466897 -0.23737153 -0.98377836  2.30448101  0.27092785]\n"
     ]
    }
   ],
   "source": [
    "print(lm.coef_)"
   ]
  },
  {
   "cell_type": "markdown",
   "metadata": {},
   "source": [
    "From the coefficients, we can find that the cpuValue has the biggest impact on the price. One unit increase on the cupValue, the final price will go down by 5.08466897."
   ]
  },
  {
   "cell_type": "markdown",
   "metadata": {},
   "source": [
    "### 2.2 Polynomial regression model\n",
    "\n",
    "Let's test the performance of the polynomial regression model. Here I originally choose the degree from 2 to 9 to do some experiments."
   ]
  },
  {
   "cell_type": "code",
   "execution_count": 42,
   "metadata": {},
   "outputs": [],
   "source": [
    "from sklearn.preprocessing import PolynomialFeatures\n",
    "from sklearn.metrics import mean_squared_error, explained_variance_score\n",
    "\n",
    "mse = []\n",
    "var = []\n",
    "\n",
    "for i in range(2, 10):\n",
    "    poly = PolynomialFeatures(degree=i)\n",
    "    x_train_poly = poly.fit_transform(x_train)\n",
    "    poly.fit(x_train_poly, y_train)\n",
    "\n",
    "    plm = LinearRegression()\n",
    "    plm.fit(x_train_poly, y_train)\n",
    "\n",
    "    y_predict_poly = plm.predict(poly.fit_transform(x_val))\n",
    "\n",
    "    mse.append(mean_squared_error(y_predict_poly, y_val))\n",
    "    var.append(explained_variance_score(y_val, y_predict_poly))"
   ]
  },
  {
   "cell_type": "markdown",
   "metadata": {},
   "source": [
    "Let's see how the models from order 2 to 9 perform on the validation set."
   ]
  },
  {
   "cell_type": "code",
   "execution_count": 43,
   "metadata": {},
   "outputs": [
    {
     "data": {
      "text/plain": [
       "[<matplotlib.lines.Line2D at 0x2eb6c7f7048>]"
      ]
     },
     "execution_count": 43,
     "metadata": {},
     "output_type": "execute_result"
    },
    {
     "data": {
      "image/png": "[encoded data removed]",
      "text/plain": [
       "<Figure size 1152x720 with 1 Axes>"
      ]
     },
     "metadata": {},
     "output_type": "display_data"
    }
   ],
   "source": [
    "index = np.arange(2, 10, 1)\n",
    "plt.plot(index, mse, 'r')\n",
    "plt.plot(index, var, 'b')"
   ]
  },
  {
   "cell_type": "markdown",
   "metadata": {},
   "source": [
    "From the result we could see that the MSE increase from dgree 6, which means that the model are becoming overfitting to the training set. So let's have a closer look at the degree from degree 2 to 6."
   ]
  },
  {
   "cell_type": "code",
   "execution_count": 44,
   "metadata": {},
   "outputs": [
    {
     "data": {
      "text/plain": [
       "[<matplotlib.lines.Line2D at 0x2eb0031e1c8>]"
      ]
     },
     "execution_count": 44,
     "metadata": {},
     "output_type": "execute_result"
    },
    {
     "data": {
      "image/png": "[encoded data removed]",
      "text/plain": [
       "<Figure size 1152x720 with 1 Axes>"
      ]
     },
     "metadata": {},
     "output_type": "display_data"
    }
   ],
   "source": [
    "index = np.arange(2, 7, 1)\n",
    "plt.plot(index, mse[0:5], 'r')\n",
    "plt.plot(index, var[0:5], 'b')"
   ]
  },
  {
   "cell_type": "markdown",
   "metadata": {},
   "source": [
    "From the plot above we can find that the MSE and the variance are close to zero, which means that the model has a good performance on predict the new data and has a nice generalize ability. Next, I need to print the MSE from degree 2 to 5 to choose the optimal order."
   ]
  },
  {
   "cell_type": "code",
   "execution_count": 41,
   "metadata": {},
   "outputs": [
    {
     "name": "stdout",
     "output_type": "stream",
     "text": [
      "[135358.5965260682, 91259.27818220995, 90714.71532605976, 273761.08792816143, 26126547.871263046]\n"
     ]
    }
   ],
   "source": [
    "print(mse[0:5])"
   ]
  },
  {
   "cell_type": "markdown",
   "metadata": {},
   "source": [
    "We could see that the MSE bottoms out at order 4, so the optimal choice should be at degree 4.\n",
    "\n",
    "Now we should use the test set to compare between the linear regression model and the polynomial regression model."
   ]
  },
  {
   "cell_type": "code",
   "execution_count": 47,
   "metadata": {},
   "outputs": [
    {
     "name": "stdout",
     "output_type": "stream",
     "text": [
      "Linear Regression Model: 416604.2694333722\n",
      "Polynomial Linear Regression Model: 178231308031.47662\n"
     ]
    }
   ],
   "source": [
    "lm_y_test_pre = lm.predict(x_test)\n",
    "lm_mse = mean_squared_error(y_test, lm_y_test_pre)\n",
    "\n",
    "plm_y_test_pre = plm.predict(poly.fit_transform(x_test))\n",
    "plm_mse = mean_squared_error(y_test, plm_y_test_pre)\n",
    "\n",
    "print(\"Linear Regression Model: \" + str(lm_mse))\n",
    "print(\"Polynomial Linear Regression Model: \" + str(plm_mse))"
   ]
  },
  {
   "cell_type": "markdown",
   "metadata": {},
   "source": [
    "We could see that the Linear regression model performs much better on the test dataset than the polynomial linear regression model. So in conclusion, by using these dataset, the linear regression model can predict a better expected price."
   ]
  },
  {
   "cell_type": "markdown",
   "metadata": {},
   "source": [
    "### 2.3 Multilayer Linear Perceptron"
   ]
  },
  {
   "cell_type": "markdown",
   "metadata": {},
   "source": [
    "We know from the previous results that the major category of the CPU is Laptop, Desttop, Server and Mobile/Embedded. The remaining CPU types can take into account two types of usage, but because the number is too small, I choose to ignore them here. And we need to reset the output data to the 'category'."
   ]
  },
  {
   "cell_type": "code",
   "execution_count": 50,
   "metadata": {},
   "outputs": [
    {
     "data": {
      "text/plain": [
       "Laptop                              1407\n",
       "Desktop                             1141\n",
       "Server                               784\n",
       "Mobile/Embedded                      425\n",
       "Laptop, Mobile/Embedded               29\n",
       "Desktop, Laptop                       12\n",
       "Laptop, Server                        11\n",
       "Desktop, Server                        7\n",
       "Desktop, Mobile/Embedded               5\n",
       "Server, Mobile/Embedded                3\n",
       "Desktop, Laptop, Mobile/Embedded       1\n",
       "Name: category, dtype: int64"
      ]
     },
     "execution_count": 50,
     "metadata": {},
     "output_type": "execute_result"
    }
   ],
   "source": [
    "df.loc[:, 'category'].value_counts()"
   ]
  },
  {
   "cell_type": "code",
   "execution_count": 55,
   "metadata": {},
   "outputs": [
    {
     "name": "stderr",
     "output_type": "stream",
     "text": [
      "d:\\Applications\\Pyrhon37\\lib\\site-packages\\pandas\\core\\frame.py:4913: SettingWithCopyWarning: \n",
      "A value is trying to be set on a copy of a slice from a DataFrame\n",
      "\n",
      "See the caveats in the documentation: https://pandas.pydata.org/pandas-docs/stable/user_guide/indexing.html#returning-a-view-versus-a-copy\n",
      "  errors=errors,\n"
     ]
    }
   ],
   "source": [
    "y = df.loc[:, 'category']\n",
    "col = []\n",
    "for i in y.index:\n",
    "    if(y[i] == 'Desktop, Laptop' or y[i] == 'Laptop, Server' or y[i] == 'Desktop, Server' or y[i] == 'Desktop, Mobile/Embedded' or y[i] == 'Server, Mobile/Embedded' or y[i] == 'Desktop, Laptop, Mobile/Embedded'):\n",
    "        col.append(i)\n",
    "\n",
    "y.drop(col, inplace=True)\n",
    "x.drop(col, inplace=True)"
   ]
  },
  {
   "cell_type": "markdown",
   "metadata": {},
   "source": [
    "After completing the preprocessing, we need to export the data set to a csv file and use Weka to do the MLP training."
   ]
  },
  {
   "cell_type": "code",
   "execution_count": 56,
   "metadata": {},
   "outputs": [],
   "source": [
    "cleaning_df = pd.concat([x, y], axis=1, join='outer')\n",
    "cleaning_df.to_csv('cpu_cleaning.csv', index = False, sep=',')"
   ]
  },
  {
   "cell_type": "markdown",
   "metadata": {},
   "source": [
    "In Weka, I retrain the model by different learning rate and record the the results.\n",
    "\n",
    "In terms of the hpyerparameters, I set the number of the hidden layers by (# of attributs + # of classes) / 2, with learning rate at 0.01, 0.1, 0.2, 0.5, 0.8, 1."
   ]
  },
  {
   "cell_type": "markdown",
   "metadata": {},
   "source": [
    "Training results:\n",
    "\n",
    "learning rate: 0.01\n",
    "    Correctly Classified Instances         831               64.5688 %\n",
    "\n",
    "learning rate: 0.1\n",
    "    Correctly Classified Instances         871               67.6768 %\n",
    "\n",
    "learning rate: 0.2\n",
    "    Correctly Classified Instances         899               69.8524 %\n",
    "\n",
    "learning rate: 0.5\n",
    "    Correctly Classified Instances         854               66.3559 %\n",
    "\n",
    "learning rate: 0.8\n",
    "    Correctly Classified Instances         865               67.2106 %\n",
    "\n",
    "learning rate: 1.0\n",
    "    Correctly Classified Instances         860               66.8221 %\n",
    "    "
   ]
  },
  {
   "cell_type": "markdown",
   "metadata": {},
   "source": [
    "We could see from the results that the model performs the best at learning rate of 0.2 here."
   ]
  }
 ],
 "metadata": {
  "interpreter": {
   "hash": "d0f885e227eba6dac5b86c1e8f6f4c7e0abde2b199d34d60382754998189d096"
  },
  "kernelspec": {
   "display_name": "Python 3.7.8 64-bit",
   "language": "python",
   "name": "python3"
  },
  "language_info": {
   "codemirror_mode": {
    "name": "ipython",
    "version": 3
   },
   "file_extension": ".py",
   "mimetype": "text/x-python",
   "name": "python",
   "nbconvert_exporter": "python",
   "pygments_lexer": "ipython3",
   "version": "3.7.8"
  },
  "orig_nbformat": 4
 },
 "nbformat": 4,
 "nbformat_minor": 2
}
